{
 "cells": [
  {
   "cell_type": "code",
   "execution_count": 16,
   "metadata": {},
   "outputs": [],
   "source": [
    "#Just run it once\n",
    "#pip install faker. "
   ]
  },
  {
   "cell_type": "code",
   "execution_count": 18,
   "metadata": {},
   "outputs": [
    {
     "data": {
      "text/plain": [
       "[['Linda', 'Perez'],\n",
       " ['Cathy', 'Adams'],\n",
       " ['Shawn', 'Moore'],\n",
       " ['Matthew', 'Ross'],\n",
       " ['Daniel', 'Moore'],\n",
       " ['Dawn', 'Lane'],\n",
       " ['Emily', 'Carpenter'],\n",
       " ['Danielle', 'Wolf'],\n",
       " ['Charles', 'Salinas'],\n",
       " ['Christina', 'Mccarty'],\n",
       " ['Erika', 'Gilbert'],\n",
       " ['Jordan', 'Bright'],\n",
       " ['Austin', 'Taylor'],\n",
       " ['Elizabeth', 'Richardson'],\n",
       " ['Patrick', 'Cooper'],\n",
       " ['Amy', 'Lee'],\n",
       " ['Krista', 'Knight'],\n",
       " ['Brandi', 'Lewis'],\n",
       " ['Deborah', 'Anderson'],\n",
       " ['Austin', 'Saunders'],\n",
       " ['Brittany', 'Armstrong'],\n",
       " ['Douglas', 'Saunders'],\n",
       " ['Cory', 'Wood'],\n",
       " ['James', 'Baker'],\n",
       " ['Joshua', 'Jackson'],\n",
       " ['Tim', 'Richards'],\n",
       " ['Patrick', 'James'],\n",
       " ['Adam', 'Hooper'],\n",
       " ['Steven', 'Sanders'],\n",
       " ['Lindsey', 'Parker'],\n",
       " ['Manuel', 'Jordan'],\n",
       " ['Emily', 'Luna'],\n",
       " ['Jennifer', 'Perez'],\n",
       " ['Cory', 'Ramirez'],\n",
       " ['James', 'Medina'],\n",
       " ['Jeremiah', 'Cannon'],\n",
       " ['Jane', 'Mack'],\n",
       " ['Shirley', 'Mills'],\n",
       " ['William', 'Wilkins'],\n",
       " ['Todd', 'Santos'],\n",
       " ['Philip', 'Norton'],\n",
       " ['Jon', 'Davis'],\n",
       " ['Kathy', 'Cummings'],\n",
       " ['Bradley', 'Cannon'],\n",
       " ['Robin', 'Rollins'],\n",
       " ['Jessica', 'Rivera'],\n",
       " ['Brittany', 'Combs'],\n",
       " ['Ann', 'Atkins'],\n",
       " ['Joseph', 'Summers'],\n",
       " ['Mary', 'Mccarthy'],\n",
       " ['Patricia', 'Anderson'],\n",
       " ['Shawn', 'Evans'],\n",
       " ['John', 'Christian'],\n",
       " ['Edward', 'Booker'],\n",
       " ['Shari', 'Callahan'],\n",
       " ['Erik', 'May'],\n",
       " ['Kendra', 'Ball'],\n",
       " ['Ryan', 'White'],\n",
       " ['Kimberly', 'Kane'],\n",
       " ['Andrew', 'Robinson'],\n",
       " ['Caitlin', 'Rodriguez'],\n",
       " ['Timothy', 'Duncan'],\n",
       " ['Mariah', 'Mccarty'],\n",
       " ['Robert', 'Fisher'],\n",
       " ['William', 'Hall'],\n",
       " ['Nicholas', 'Cervantes'],\n",
       " ['Cynthia', 'Hodges'],\n",
       " ['Christopher', 'Murphy'],\n",
       " ['Alan', 'Arnold'],\n",
       " ['Gwendolyn', 'Morris'],\n",
       " ['Kaitlyn', 'Garner'],\n",
       " ['Cynthia', 'Christian'],\n",
       " ['Linda', 'Moore'],\n",
       " ['Arthur', 'Hancock'],\n",
       " ['Kathy', 'White'],\n",
       " ['Robert', 'Rojas'],\n",
       " ['Wendy', 'Hill'],\n",
       " ['Daniel', 'Wallace'],\n",
       " ['Deborah', 'Charles'],\n",
       " ['Tina', 'Cruz'],\n",
       " ['Danielle', 'Cole'],\n",
       " ['Austin', 'Curry'],\n",
       " ['Jason', 'Church'],\n",
       " ['Aaron', 'Anderson'],\n",
       " ['Chad', 'Nelson'],\n",
       " ['Clarence', 'Chapman'],\n",
       " ['Laura', 'Valentine'],\n",
       " ['Janice', 'Meyer'],\n",
       " ['Jamie', 'Newman'],\n",
       " ['Samantha', 'Macias'],\n",
       " ['Lisa', 'Lopez']]"
      ]
     },
     "execution_count": 18,
     "metadata": {},
     "output_type": "execute_result"
    }
   ],
   "source": [
    "# Here we are going to generate some data to store in the databse created in the file sqldb_creation.py\n",
    "from faker import Faker\n",
    "fake = Faker()\n",
    "names = [fake.name().split() for _ in range(100)]\n",
    "\n",
    "# To get only first and last name\n",
    "names = [name for name in names if len(name) == 2]\n",
    "names"
   ]
  },
  {
   "cell_type": "code",
   "execution_count": 19,
   "metadata": {},
   "outputs": [],
   "source": [
    "# Let us fill our database now\n",
    "import sqlite3\n",
    "\n",
    "# connecting\n",
    "connection = sqlite3.connect(\"sample.db\")\n",
    "cursor = connection.cursor()"
   ]
  },
  {
   "cell_type": "code",
   "execution_count": 22,
   "metadata": {},
   "outputs": [
    {
     "ename": "OperationalError",
     "evalue": "database is locked",
     "output_type": "error",
     "traceback": [
      "\u001b[0;31m---------------------------------------------------------------------------\u001b[0m",
      "\u001b[0;31mOperationalError\u001b[0m                          Traceback (most recent call last)",
      "Cell \u001b[0;32mIn[22], line 4\u001b[0m\n\u001b[1;32m      2\u001b[0m insert_query \u001b[38;5;241m=\u001b[39m \u001b[38;5;124m\"\u001b[39m\u001b[38;5;124mINSERT INTO people(name, surname) VALUES(?, ?)\u001b[39m\u001b[38;5;124m\"\u001b[39m \u001b[38;5;66;03m# this is weird, but it is exactly like this\u001b[39;00m\n\u001b[1;32m      3\u001b[0m \u001b[38;5;28;01mfor\u001b[39;00m name \u001b[38;5;129;01min\u001b[39;00m names:\n\u001b[0;32m----> 4\u001b[0m     \u001b[43mcursor\u001b[49m\u001b[38;5;241;43m.\u001b[39;49m\u001b[43mexecute\u001b[49m\u001b[43m(\u001b[49m\u001b[43minsert_query\u001b[49m\u001b[43m,\u001b[49m\u001b[43mname\u001b[49m\u001b[43m)\u001b[49m\n\u001b[1;32m      6\u001b[0m \u001b[38;5;66;03m# filling\u001b[39;00m\n\u001b[1;32m      7\u001b[0m connection\u001b[38;5;241m.\u001b[39mcommit\n",
      "\u001b[0;31mOperationalError\u001b[0m: database is locked"
     ]
    }
   ],
   "source": [
    "# continuing\n",
    "insert_query = \"INSERT INTO people(name, surname) VALUES(?, ?)\" # this is weird, but it is exactly like this\n",
    "for name in names:\n",
    "    cursor.execute(insert_query,name)\n",
    "\n",
    "# filling\n",
    "connection.commit"
   ]
  },
  {
   "cell_type": "code",
   "execution_count": 15,
   "metadata": {},
   "outputs": [
    {
     "name": "stdout",
     "output_type": "stream",
     "text": [
      "(1, 'Michael', 'Collins')\n",
      "(2, 'Sara', 'Perez')\n",
      "(3, 'Ronald', 'Lopez')\n",
      "(4, 'Barbara', 'White')\n",
      "(5, 'Leslie', 'Watkins')\n",
      "(6, 'Garrett', 'Lopez')\n",
      "(7, 'Stuart', 'Graves')\n",
      "(8, 'Kathryn', 'Patel')\n",
      "(9, 'George', 'Hill')\n",
      "(10, 'Kathleen', 'Perez')\n"
     ]
    }
   ],
   "source": [
    "# Checking if everything went allright \n",
    "select_query = \"SELECT * from people LIMIT 10\"\n",
    "for i in cursor.execute(select_query): # each entry is a t-uple\n",
    "    print(i)\n"
   ]
  }
 ],
 "metadata": {
  "kernelspec": {
   "display_name": "Python 3",
   "language": "python",
   "name": "python3"
  },
  "language_info": {
   "codemirror_mode": {
    "name": "ipython",
    "version": 3
   },
   "file_extension": ".py",
   "mimetype": "text/x-python",
   "name": "python",
   "nbconvert_exporter": "python",
   "pygments_lexer": "ipython3",
   "version": "3.10.8"
  }
 },
 "nbformat": 4,
 "nbformat_minor": 2
}
