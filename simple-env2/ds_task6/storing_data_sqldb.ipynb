{
 "cells": [
  {
   "cell_type": "code",
   "execution_count": 15,
   "metadata": {},
   "outputs": [],
   "source": [
    "#Just run it once\n",
    "#pip install faker. "
   ]
  },
  {
   "cell_type": "code",
   "execution_count": 16,
   "metadata": {},
   "outputs": [
    {
     "data": {
      "text/plain": [
       "[['Tammy', 'Maxwell'],\n",
       " ['Mike', 'Valdez'],\n",
       " ['Andrew', 'Pierce'],\n",
       " ['Stephanie', 'Johnson'],\n",
       " ['Shelby', 'Jones'],\n",
       " ['Zoe', 'Dixon'],\n",
       " ['Cynthia', 'Crosby'],\n",
       " ['Ian', 'Snyder'],\n",
       " ['Jamie', 'Watson'],\n",
       " ['Jordan', 'Moreno'],\n",
       " ['Wayne', 'Giles'],\n",
       " ['Cristina', 'Smith'],\n",
       " ['Catherine', 'Martin'],\n",
       " ['Marie', 'Bennett'],\n",
       " ['Brittney', 'Bishop'],\n",
       " ['Douglas', 'Osborne'],\n",
       " ['Anna', 'Rice'],\n",
       " ['Rebecca', 'Hogan'],\n",
       " ['Richard', 'Garcia'],\n",
       " ['Melanie', 'Ryan'],\n",
       " ['Robert', 'Perez'],\n",
       " ['Joanna', 'Barajas'],\n",
       " ['Mary', 'Bates'],\n",
       " ['Zoe', 'Daniel'],\n",
       " ['Makayla', 'Butler'],\n",
       " ['Victor', 'Hines'],\n",
       " ['Ashley', 'Benton'],\n",
       " ['Diamond', 'Watkins'],\n",
       " ['Pamela', 'Rivera'],\n",
       " ['Karen', 'Moore'],\n",
       " ['Daniel', 'Walsh'],\n",
       " ['Edwin', 'Wells'],\n",
       " ['Carolyn', 'Saunders'],\n",
       " ['Julie', 'Ray'],\n",
       " ['Tyler', 'Moreno'],\n",
       " ['Margaret', 'Hood'],\n",
       " ['Robin', 'Turner'],\n",
       " ['Nancy', 'Hicks'],\n",
       " ['James', 'Johnson'],\n",
       " ['Gregory', 'Giles'],\n",
       " ['Amanda', 'Richards'],\n",
       " ['Michael', 'Mueller'],\n",
       " ['Mark', 'Perez'],\n",
       " ['Carolyn', 'Garcia'],\n",
       " ['Jose', 'Hopkins'],\n",
       " ['David', 'Thomas'],\n",
       " ['Valerie', 'Landry'],\n",
       " ['Terri', 'Sexton'],\n",
       " ['Christie', 'Thomas'],\n",
       " ['Jennifer', 'Morrison'],\n",
       " ['Jared', 'Estrada'],\n",
       " ['April', 'Morgan'],\n",
       " ['Brian', 'Guerra'],\n",
       " ['Brian', 'Reyes'],\n",
       " ['Raymond', 'Sellers'],\n",
       " ['Kristin', 'Mcdonald'],\n",
       " ['Justin', 'Rivera'],\n",
       " ['Lisa', 'Wiley'],\n",
       " ['Cathy', 'Jones'],\n",
       " ['Natalie', 'Young'],\n",
       " ['Douglas', 'Wilson'],\n",
       " ['Kelsey', 'Lester'],\n",
       " ['Manuel', 'Harris'],\n",
       " ['Melissa', 'Williams'],\n",
       " ['Kimberly', 'Savage'],\n",
       " ['Linda', 'Jones'],\n",
       " ['David', 'Buck'],\n",
       " ['Meghan', 'Reed'],\n",
       " ['Edward', 'Price'],\n",
       " ['Brian', 'Holland'],\n",
       " ['Juan', 'Smith'],\n",
       " ['Alyssa', 'Pena'],\n",
       " ['Gina', 'Allen'],\n",
       " ['Lindsey', 'Martinez'],\n",
       " ['Jenna', 'Miller'],\n",
       " ['Michael', 'Young'],\n",
       " ['Emily', 'Hunter'],\n",
       " ['Kelly', 'Christensen'],\n",
       " ['Ryan', 'Rhodes'],\n",
       " ['Larry', 'Williams'],\n",
       " ['Linda', 'Lee'],\n",
       " ['Paul', 'Fernandez'],\n",
       " ['Steven', 'Ryan'],\n",
       " ['Laura', 'Patel'],\n",
       " ['Steven', 'Brown'],\n",
       " ['William', 'White'],\n",
       " ['Tiffany', 'Rollins'],\n",
       " ['Cynthia', 'Bender'],\n",
       " ['Kevin', 'Johnson'],\n",
       " ['Dawn', 'Andrade'],\n",
       " ['Mia', 'Gomez'],\n",
       " ['James', 'Tucker'],\n",
       " ['Spencer', 'Davis'],\n",
       " ['Gary', 'Jacobs'],\n",
       " ['Jessica', 'Jordan'],\n",
       " ['Vincent', 'Butler']]"
      ]
     },
     "execution_count": 16,
     "metadata": {},
     "output_type": "execute_result"
    }
   ],
   "source": [
    "# Here we are going to generate some data to store in the databse created in the file sqldb_creation.py\n",
    "from faker import Faker\n",
    "fake = Faker()\n",
    "names = [fake.name().split() for _ in range(100)]\n",
    "\n",
    "# To get only first and last name\n",
    "names = [name for name in names if len(name) == 2]\n",
    "names"
   ]
  },
  {
   "cell_type": "code",
   "execution_count": 17,
   "metadata": {},
   "outputs": [],
   "source": [
    "# Let us fill our database now\n",
    "import sqlite3\n",
    "\n",
    "# connecting\n",
    "connection = sqlite3.connect(\"sample.db\")\n",
    "cursor = connection.cursor()"
   ]
  },
  {
   "cell_type": "code",
   "execution_count": 18,
   "metadata": {},
   "outputs": [],
   "source": [
    "# continuing\n",
    "insert_query = \"INSERT INTO people(name, surname) VALUES(?, ?)\" # this is weird, but it is exactly like this\n",
    "for name in names:\n",
    "    cursor.execute(insert_query,name)\n",
    "\n",
    "# filling\n",
    "connection.commit()\n"
   ]
  },
  {
   "cell_type": "code",
   "execution_count": 19,
   "metadata": {},
   "outputs": [
    {
     "name": "stdout",
     "output_type": "stream",
     "text": [
      "(1, 'Tammy', 'Maxwell')\n",
      "(2, 'Mike', 'Valdez')\n",
      "(3, 'Andrew', 'Pierce')\n",
      "(4, 'Stephanie', 'Johnson')\n",
      "(5, 'Shelby', 'Jones')\n",
      "(6, 'Zoe', 'Dixon')\n",
      "(7, 'Cynthia', 'Crosby')\n",
      "(8, 'Ian', 'Snyder')\n",
      "(9, 'Jamie', 'Watson')\n",
      "(10, 'Jordan', 'Moreno')\n"
     ]
    }
   ],
   "source": [
    "# Checking if everything went allright \n",
    "select_query = \"SELECT * from people LIMIT 10\"\n",
    "for i in cursor.execute(select_query): # each entry is a t-uple\n",
    "    print(i)\n"
   ]
  },
  {
   "cell_type": "code",
   "execution_count": 20,
   "metadata": {},
   "outputs": [],
   "source": [
    "# Finnaly you should close the connection\n",
    "connection.close()"
   ]
  },
  {
   "cell_type": "code",
   "execution_count": null,
   "metadata": {},
   "outputs": [],
   "source": []
  }
 ],
 "metadata": {
  "kernelspec": {
   "display_name": "Python 3",
   "language": "python",
   "name": "python3"
  },
  "language_info": {
   "codemirror_mode": {
    "name": "ipython",
    "version": 3
   },
   "file_extension": ".py",
   "mimetype": "text/x-python",
   "name": "python",
   "nbconvert_exporter": "python",
   "pygments_lexer": "ipython3",
   "version": "3.10.8"
  }
 },
 "nbformat": 4,
 "nbformat_minor": 2
}
