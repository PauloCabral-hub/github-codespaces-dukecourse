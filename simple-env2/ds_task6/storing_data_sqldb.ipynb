{
 "cells": [
  {
   "cell_type": "code",
   "execution_count": 1,
   "metadata": {},
   "outputs": [],
   "source": [
    "#Just run it once\n",
    "#pip install faker. "
   ]
  },
  {
   "cell_type": "code",
   "execution_count": 2,
   "metadata": {},
   "outputs": [
    {
     "data": {
      "text/plain": [
       "[['Steven', 'Maxwell'],\n",
       " ['Joel', 'Duncan'],\n",
       " ['Christina', 'Stewart'],\n",
       " ['Steven', 'Wilkerson'],\n",
       " ['Richard', 'Johnson'],\n",
       " ['Teresa', 'Gonzalez'],\n",
       " ['Tracy', 'Bruce'],\n",
       " ['Adam', 'Harrison'],\n",
       " ['Daniel', 'Becker'],\n",
       " ['Darius', 'Adams'],\n",
       " ['Rickey', 'Ramirez'],\n",
       " ['Shannon', 'Gonzalez'],\n",
       " ['Matthew', 'Chang'],\n",
       " ['Brenda', 'Klein'],\n",
       " ['David', 'Carter'],\n",
       " ['Kathy', 'Anderson'],\n",
       " ['Steven', 'Riddle'],\n",
       " ['Gordon', 'Bishop'],\n",
       " ['Bryan', 'Campbell'],\n",
       " ['Brenda', 'Murray'],\n",
       " ['Megan', 'Rodriguez'],\n",
       " ['Keith', 'Rowland'],\n",
       " ['Vanessa', 'Powell'],\n",
       " ['Sarah', 'Shaffer'],\n",
       " ['Bethany', 'Mora'],\n",
       " ['Bryce', 'Taylor'],\n",
       " ['Elizabeth', 'Townsend'],\n",
       " ['John', 'Ramos'],\n",
       " ['Tyler', 'Romero'],\n",
       " ['Kelly', 'Hodges'],\n",
       " ['Elizabeth', 'Davis'],\n",
       " ['Kevin', 'Smith'],\n",
       " ['Sara', 'Butler'],\n",
       " ['Amber', 'Jackson'],\n",
       " ['Taylor', 'Romero'],\n",
       " ['Dylan', 'Nguyen'],\n",
       " ['Jeffrey', 'Hall'],\n",
       " ['Catherine', 'Lewis'],\n",
       " ['Brandon', 'Jones'],\n",
       " ['Dan', 'Mills'],\n",
       " ['Mary', 'Payne'],\n",
       " ['Nicole', 'Yang'],\n",
       " ['Susan', 'Valencia'],\n",
       " ['Michael', 'Baker'],\n",
       " ['Andrew', 'Harvey'],\n",
       " ['Mary', 'Sanchez'],\n",
       " ['Steven', 'Spencer'],\n",
       " ['Jamie', 'Baker'],\n",
       " ['Alicia', 'Mcclain'],\n",
       " ['Patricia', 'Levine'],\n",
       " ['Melissa', 'Lambert'],\n",
       " ['Andrea', 'Salazar'],\n",
       " ['Karen', 'Olson'],\n",
       " ['Rick', 'Smith'],\n",
       " ['Donald', 'Taylor'],\n",
       " ['Matthew', 'Weaver'],\n",
       " ['Shane', 'Gallagher'],\n",
       " ['Tammy', 'Garcia'],\n",
       " ['Alexandria', 'Joseph'],\n",
       " ['Joseph', 'Williams'],\n",
       " ['Cheryl', 'Mckay'],\n",
       " ['Shawn', 'Mosley'],\n",
       " ['Chelsea', 'Parker'],\n",
       " ['Cody', 'Dixon'],\n",
       " ['Jessica', 'Lowe'],\n",
       " ['Pamela', 'Young'],\n",
       " ['Andrew', 'Weaver'],\n",
       " ['Nicholas', 'Ramirez'],\n",
       " ['Terry', 'Flores'],\n",
       " ['Mariah', 'Smith'],\n",
       " ['Antonio', 'Lewis'],\n",
       " ['Jody', 'Patel'],\n",
       " ['Nicholas', 'Carroll'],\n",
       " ['Brian', 'Barrett'],\n",
       " ['Jamie', 'Holt'],\n",
       " ['Kerry', 'Roberts'],\n",
       " ['Alan', 'Johnson'],\n",
       " ['Brian', 'Moore'],\n",
       " ['Kelly', 'Smith'],\n",
       " ['Jeffrey', 'White'],\n",
       " ['Jessica', 'Carter'],\n",
       " ['Matthew', 'Hayes'],\n",
       " ['Danielle', 'White'],\n",
       " ['Kathryn', 'Lee'],\n",
       " ['Danielle', 'Juarez'],\n",
       " ['David', 'Price'],\n",
       " ['Jessica', 'Sullivan'],\n",
       " ['Katherine', 'Ward'],\n",
       " ['Julie', 'Jordan'],\n",
       " ['Alicia', 'Jones'],\n",
       " ['Roy', 'Moody'],\n",
       " ['Robert', 'Sloan'],\n",
       " ['Lindsey', 'Garcia'],\n",
       " ['Sharon', 'Wheeler'],\n",
       " ['Gregory', 'Perez'],\n",
       " ['Michelle', 'Rios'],\n",
       " ['Wanda', 'Parks']]"
      ]
     },
     "execution_count": 2,
     "metadata": {},
     "output_type": "execute_result"
    }
   ],
   "source": [
    "# Here we are going to generate some data to store in the databse created in the file sqldb_creation.py\n",
    "from faker import Faker\n",
    "fake = Faker()\n",
    "names = [fake.name().split() for _ in range(100)]\n",
    "\n",
    "# To get only first and last name\n",
    "names = [name for name in names if len(name) == 2]\n",
    "names"
   ]
  },
  {
   "cell_type": "code",
   "execution_count": 3,
   "metadata": {},
   "outputs": [],
   "source": [
    "# Let us fill our database now\n",
    "import sqlite3\n",
    "\n",
    "# connecting\n",
    "connection = sqlite3.connect(\"sample.db\")\n",
    "cursor = connection.cursor()"
   ]
  },
  {
   "cell_type": "code",
   "execution_count": 4,
   "metadata": {},
   "outputs": [
    {
     "data": {
      "text/plain": [
       "<function Connection.commit()>"
      ]
     },
     "execution_count": 4,
     "metadata": {},
     "output_type": "execute_result"
    }
   ],
   "source": [
    "# continuing\n",
    "insert_query = \"INSERT INTO people(name, surname) VALUES(?, ?)\" # this is weird, but it is exactly like this\n",
    "for name in names:\n",
    "    cursor.execute(insert_query,name)\n",
    "\n",
    "# filling\n",
    "connection.commit"
   ]
  },
  {
   "cell_type": "code",
   "execution_count": 15,
   "metadata": {},
   "outputs": [
    {
     "name": "stdout",
     "output_type": "stream",
     "text": [
      "(1, 'Michael', 'Collins')\n",
      "(2, 'Sara', 'Perez')\n",
      "(3, 'Ronald', 'Lopez')\n",
      "(4, 'Barbara', 'White')\n",
      "(5, 'Leslie', 'Watkins')\n",
      "(6, 'Garrett', 'Lopez')\n",
      "(7, 'Stuart', 'Graves')\n",
      "(8, 'Kathryn', 'Patel')\n",
      "(9, 'George', 'Hill')\n",
      "(10, 'Kathleen', 'Perez')\n"
     ]
    }
   ],
   "source": [
    "# Checking if everything went allright \n",
    "select_query = \"SELECT * from people LIMIT 10\"\n",
    "for i in cursor.execute(select_query): # each entry is a t-uple\n",
    "    print(i)\n"
   ]
  }
 ],
 "metadata": {
  "kernelspec": {
   "display_name": "Python 3",
   "language": "python",
   "name": "python3"
  },
  "language_info": {
   "codemirror_mode": {
    "name": "ipython",
    "version": 3
   },
   "file_extension": ".py",
   "mimetype": "text/x-python",
   "name": "python",
   "nbconvert_exporter": "python",
   "pygments_lexer": "ipython3",
   "version": "3.10.8"
  }
 },
 "nbformat": 4,
 "nbformat_minor": 2
}
