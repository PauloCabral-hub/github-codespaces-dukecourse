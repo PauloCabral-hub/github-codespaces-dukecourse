{
 "cells": [
  {
   "cell_type": "code",
   "execution_count": 3,
   "metadata": {},
   "outputs": [],
   "source": [
    "# Here we are going to deal just with the database creation through python\n",
    "import sqlite3\n",
    "\n",
    "connection = sqlite3.connect(\"sample.db\") # NEI - Not explained information\n",
    "\n",
    "table = \"CREATE TABLE people (id integer primary key, name TEXT, surname TEXT)\"\n",
    "cursor = connection.cursor()\n",
    "cursor.execute(table) # here I am excuting the table creation\n",
    "connection.commit()\n",
    "connection.close()"
   ]
  }
 ],
 "metadata": {
  "kernelspec": {
   "display_name": "Python 3",
   "language": "python",
   "name": "python3"
  },
  "language_info": {
   "codemirror_mode": {
    "name": "ipython",
    "version": 3
   },
   "file_extension": ".py",
   "mimetype": "text/x-python",
   "name": "python",
   "nbconvert_exporter": "python",
   "pygments_lexer": "ipython3",
   "version": "3.10.8"
  }
 },
 "nbformat": 4,
 "nbformat_minor": 2
}
