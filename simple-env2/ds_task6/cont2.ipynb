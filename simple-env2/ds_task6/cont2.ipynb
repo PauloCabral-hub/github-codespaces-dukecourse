{
 "cells": [
  {
   "cell_type": "code",
   "execution_count": 1,
   "metadata": {},
   "outputs": [],
   "source": [
    "import sqlite3\n",
    "\n",
    "connection = sqlite3.connect('sample.db')\n",
    "cursor = connection.cursor()"
   ]
  },
  {
   "cell_type": "code",
   "execution_count": 11,
   "metadata": {},
   "outputs": [
    {
     "name": "stdout",
     "output_type": "stream",
     "text": [
      "First name: Paul, Last name: Fernandez\n"
     ]
    }
   ],
   "source": [
    "query = \"SELECT name, surname FROM people WHERE name='Paul' ORDER BY name ASC LIMIT 10\"\n",
    "\n",
    "for result in cursor.execute(query):\n",
    "    print(f\"First name: {result[0]}, Last name: {result[1]}\")"
   ]
  },
  {
   "cell_type": "code",
   "execution_count": 13,
   "metadata": {},
   "outputs": [
    {
     "name": "stdout",
     "output_type": "stream",
     "text": [
      "First name: James, Last name: Johnson\n",
      "First name: James, Last name: Tucker\n",
      "First name: Jessica, Last name: Jordan\n"
     ]
    }
   ],
   "source": [
    "query2 = \"SELECT name, surname FROM people WHERE name LIKE '%es%' \" \n",
    "# % is a wild card in SQL means anything + next pattern\n",
    "# _ at least one character, you can make at least 2 by setting __ and this way forward\n",
    "\n",
    "\n",
    "for result in cursor.execute(query2):\n",
    "    print(f\"First name: {result[0]}, Last name: {result[1]}\")\n"
   ]
  },
  {
   "cell_type": "code",
   "execution_count": null,
   "metadata": {},
   "outputs": [],
   "source": []
  }
 ],
 "metadata": {
  "kernelspec": {
   "display_name": "Python 3",
   "language": "python",
   "name": "python3"
  },
  "language_info": {
   "codemirror_mode": {
    "name": "ipython",
    "version": 3
   },
   "file_extension": ".py",
   "mimetype": "text/x-python",
   "name": "python",
   "nbconvert_exporter": "python",
   "pygments_lexer": "ipython3",
   "version": "3.10.8"
  }
 },
 "nbformat": 4,
 "nbformat_minor": 2
}
