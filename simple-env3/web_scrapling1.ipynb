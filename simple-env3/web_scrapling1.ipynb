{
 "cells": [
  {
   "cell_type": "code",
   "execution_count": 4,
   "metadata": {},
   "outputs": [],
   "source": [
    "# Advisory 1: Web scrappling should be used ALWAYS as a last resource, prefer the use of APIs\n",
    "# for data extraction from web services"
   ]
  },
  {
   "cell_type": "code",
   "execution_count": 5,
   "metadata": {},
   "outputs": [],
   "source": [
    "from html.parser import HTMLParser\n",
    "\n",
    "# Let us pass through what is happening in here\n",
    "\n",
    "class Parser(HTMLParser): # We are creating a class which inherits HTMLParser\n",
    "\n",
    "    def __init__(self): # appearently, this is standard an must be used as it is in every case\n",
    "        super().__init__()\n",
    "        self.recording = False\n",
    "\n",
    "    def handle_starttag(self, tag, attrs): # tells the class when it finds a tag\n",
    "        # this is the indicator of a tag of interest, so you must change according to your needs\n",
    "        if tag == \"title\":\n",
    "            # You should verify that the tag has the following pattern:\n",
    "            # <tag_name>...information...</tag_name> \n",
    "            self.recording = True\n",
    "        else:\n",
    "            self.recording = False\n",
    "            \n",
    "    def handle_data(self, data):\n",
    "        if self.recording:\n",
    "            print(f\"Found data for tag: {repr(data)}\") # repr() shows special characters\n",
    "            self.recording = False # NEI - but seems to resolve the problem when you have special characters"
   ]
  },
  {
   "cell_type": "code",
   "execution_count": 6,
   "metadata": {},
   "outputs": [
    {
     "name": "stdout",
     "output_type": "stream",
     "text": [
      "Found data for tag: \"1992 World Junior Championships in Athletics – Men's high jump - Wikipedia\"\n"
     ]
    }
   ],
   "source": [
    "# Different from the real-world scenario, here we are going to get information in html format\n",
    "# but as a string\n",
    "\n",
    "content = \"\"\"<!DOCTYPE html>\n",
    "<html class=\"client-nojs\" lang=\"en\" dir=\"ltr\">\n",
    "<head>\n",
    "<meta charset=\"UTF-8\"/>\n",
    "<title>1992 World Junior Championships in Athletics – Men's high jump - Wikipedia</title>\"\"\"\n",
    "\n",
    "p = Parser() # This is how you create an instance of a class\n",
    "p.feed(content) # In this example, nothing will happen since our content is empty"
   ]
  },
  {
   "cell_type": "code",
   "execution_count": null,
   "metadata": {},
   "outputs": [],
   "source": []
  }
 ],
 "metadata": {
  "kernelspec": {
   "display_name": "Python 3",
   "language": "python",
   "name": "python3"
  },
  "language_info": {
   "codemirror_mode": {
    "name": "ipython",
    "version": 3
   },
   "file_extension": ".py",
   "mimetype": "text/x-python",
   "name": "python",
   "nbconvert_exporter": "python",
   "pygments_lexer": "ipython3",
   "version": "3.10.8"
  }
 },
 "nbformat": 4,
 "nbformat_minor": 2
}
