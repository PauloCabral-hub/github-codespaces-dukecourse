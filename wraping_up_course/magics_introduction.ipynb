{
 "cells": [
  {
   "cell_type": "markdown",
   "id": "402f4944-cc7c-4c64-9416-1e94515620c7",
   "metadata": {},
   "source": [
    "# Magics commands\n",
    "\n",
    "This are special types of commands. To list this commands type:"
   ]
  },
  {
   "cell_type": "code",
   "execution_count": 2,
   "id": "32e9c4d8-aaf3-475d-af12-bab5d06a3030",
   "metadata": {},
   "outputs": [
    {
     "data": {
      "application/json": {
       "cell": {
        "!": "OSMagics",
        "HTML": "Other",
        "SVG": "Other",
        "bash": "Other",
        "capture": "ExecutionMagics",
        "code_wrap": "ExecutionMagics",
        "debug": "ExecutionMagics",
        "file": "Other",
        "html": "DisplayMagics",
        "javascript": "DisplayMagics",
        "js": "DisplayMagics",
        "latex": "DisplayMagics",
        "markdown": "DisplayMagics",
        "perl": "Other",
        "prun": "ExecutionMagics",
        "pypy": "Other",
        "python": "Other",
        "python2": "Other",
        "python3": "Other",
        "ruby": "Other",
        "script": "ScriptMagics",
        "sh": "Other",
        "svg": "DisplayMagics",
        "sx": "OSMagics",
        "system": "OSMagics",
        "time": "ExecutionMagics",
        "timeit": "ExecutionMagics",
        "writefile": "OSMagics"
       },
       "line": {
        "alias": "OSMagics",
        "alias_magic": "BasicMagics",
        "autoawait": "AsyncMagics",
        "autocall": "AutoMagics",
        "automagic": "AutoMagics",
        "autosave": "KernelMagics",
        "bookmark": "OSMagics",
        "cat": "Other",
        "cd": "OSMagics",
        "clear": "KernelMagics",
        "code_wrap": "ExecutionMagics",
        "colors": "BasicMagics",
        "conda": "PackagingMagics",
        "config": "ConfigMagics",
        "connect_info": "KernelMagics",
        "cp": "Other",
        "debug": "ExecutionMagics",
        "dhist": "OSMagics",
        "dirs": "OSMagics",
        "doctest_mode": "BasicMagics",
        "ed": "Other",
        "edit": "KernelMagics",
        "env": "OSMagics",
        "gui": "BasicMagics",
        "hist": "Other",
        "history": "HistoryMagics",
        "killbgscripts": "ScriptMagics",
        "ldir": "Other",
        "less": "KernelMagics",
        "lf": "Other",
        "lk": "Other",
        "ll": "Other",
        "load": "CodeMagics",
        "load_ext": "ExtensionMagics",
        "loadpy": "CodeMagics",
        "logoff": "LoggingMagics",
        "logon": "LoggingMagics",
        "logstart": "LoggingMagics",
        "logstate": "LoggingMagics",
        "logstop": "LoggingMagics",
        "ls": "Other",
        "lsmagic": "BasicMagics",
        "lx": "Other",
        "macro": "ExecutionMagics",
        "magic": "BasicMagics",
        "mamba": "PackagingMagics",
        "man": "KernelMagics",
        "matplotlib": "PylabMagics",
        "micromamba": "PackagingMagics",
        "mkdir": "Other",
        "more": "KernelMagics",
        "mv": "Other",
        "notebook": "BasicMagics",
        "page": "BasicMagics",
        "pastebin": "CodeMagics",
        "pdb": "ExecutionMagics",
        "pdef": "NamespaceMagics",
        "pdoc": "NamespaceMagics",
        "pfile": "NamespaceMagics",
        "pinfo": "NamespaceMagics",
        "pinfo2": "NamespaceMagics",
        "pip": "PackagingMagics",
        "popd": "OSMagics",
        "pprint": "BasicMagics",
        "precision": "BasicMagics",
        "prun": "ExecutionMagics",
        "psearch": "NamespaceMagics",
        "psource": "NamespaceMagics",
        "pushd": "OSMagics",
        "pwd": "OSMagics",
        "pycat": "OSMagics",
        "pylab": "PylabMagics",
        "qtconsole": "KernelMagics",
        "quickref": "BasicMagics",
        "recall": "HistoryMagics",
        "rehashx": "OSMagics",
        "reload_ext": "ExtensionMagics",
        "rep": "Other",
        "rerun": "HistoryMagics",
        "reset": "NamespaceMagics",
        "reset_selective": "NamespaceMagics",
        "rm": "Other",
        "rmdir": "Other",
        "run": "ExecutionMagics",
        "save": "CodeMagics",
        "sc": "OSMagics",
        "set_env": "OSMagics",
        "store": "StoreMagics",
        "sx": "OSMagics",
        "system": "OSMagics",
        "tb": "ExecutionMagics",
        "time": "ExecutionMagics",
        "timeit": "ExecutionMagics",
        "unalias": "OSMagics",
        "unload_ext": "ExtensionMagics",
        "who": "NamespaceMagics",
        "who_ls": "NamespaceMagics",
        "whos": "NamespaceMagics",
        "xdel": "NamespaceMagics",
        "xmode": "BasicMagics"
       }
      },
      "text/plain": [
       "Available line magics:\n",
       "%alias  %alias_magic  %autoawait  %autocall  %automagic  %autosave  %bookmark  %cat  %cd  %clear  %code_wrap  %colors  %conda  %config  %connect_info  %cp  %debug  %dhist  %dirs  %doctest_mode  %ed  %edit  %env  %gui  %hist  %history  %killbgscripts  %ldir  %less  %lf  %lk  %ll  %load  %load_ext  %loadpy  %logoff  %logon  %logstart  %logstate  %logstop  %ls  %lsmagic  %lx  %macro  %magic  %mamba  %man  %matplotlib  %micromamba  %mkdir  %more  %mv  %notebook  %page  %pastebin  %pdb  %pdef  %pdoc  %pfile  %pinfo  %pinfo2  %pip  %popd  %pprint  %precision  %prun  %psearch  %psource  %pushd  %pwd  %pycat  %pylab  %qtconsole  %quickref  %recall  %rehashx  %reload_ext  %rep  %rerun  %reset  %reset_selective  %rm  %rmdir  %run  %save  %sc  %set_env  %store  %sx  %system  %tb  %time  %timeit  %unalias  %unload_ext  %who  %who_ls  %whos  %xdel  %xmode\n",
       "\n",
       "Available cell magics:\n",
       "%%!  %%HTML  %%SVG  %%bash  %%capture  %%code_wrap  %%debug  %%file  %%html  %%javascript  %%js  %%latex  %%markdown  %%perl  %%prun  %%pypy  %%python  %%python2  %%python3  %%ruby  %%script  %%sh  %%svg  %%sx  %%system  %%time  %%timeit  %%writefile\n",
       "\n",
       "Automagic is ON, % prefix IS NOT needed for line magics."
      ]
     },
     "execution_count": 2,
     "metadata": {},
     "output_type": "execute_result"
    }
   ],
   "source": [
    "%lsmagic"
   ]
  },
  {
   "cell_type": "markdown",
   "id": "58986fbd-182b-406a-bf0d-706f5c103460",
   "metadata": {},
   "source": [
    "You can get the magics command documentation by appending it with a question mark."
   ]
  },
  {
   "cell_type": "code",
   "execution_count": 3,
   "id": "ee771238-f866-4860-bb47-e27a1145dd4a",
   "metadata": {},
   "outputs": [
    {
     "data": {
      "text/plain": [
       "\u001b[0;31mDocstring:\u001b[0m List currently available magic functions.\n",
       "\u001b[0;31mFile:\u001b[0m      ~/Documents/github-codespaces-dukecourse/wraping_up_course/env/lib/python3.10/site-packages/IPython/core/magics/basic.py"
      ]
     },
     "metadata": {},
     "output_type": "display_data"
    }
   ],
   "source": [
    "%lsmagic?"
   ]
  },
  {
   "cell_type": "markdown",
   "id": "676c04b9-3136-42c5-9975-12582f22faec",
   "metadata": {},
   "source": [
    "One useful function is **timeit**, which times how much it takes to run something in the same line."
   ]
  },
  {
   "cell_type": "code",
   "execution_count": 4,
   "id": "257d804d-295c-44d0-94ff-7091c058ecf3",
   "metadata": {},
   "outputs": [
    {
     "name": "stdout",
     "output_type": "stream",
     "text": [
      "23.6 µs ± 125 ns per loop (mean ± std. dev. of 7 runs, 10,000 loops each)\n"
     ]
    }
   ],
   "source": [
    "%timeit [i for i in range(1000)]"
   ]
  },
  {
   "cell_type": "markdown",
   "id": "ebe634ce-eb2a-4dec-a1d0-eaa5e3866885",
   "metadata": {},
   "source": [
    "You can do it for a whole cell by typing:"
   ]
  },
  {
   "cell_type": "code",
   "execution_count": 6,
   "id": "59c236e7-3a89-42df-8f67-eb8c18e72048",
   "metadata": {},
   "outputs": [
    {
     "name": "stdout",
     "output_type": "stream",
     "text": [
      "23.6 ms ± 111 µs per loop (mean ± std. dev. of 7 runs, 10 loops each)\n"
     ]
    }
   ],
   "source": [
    "%%timeit\n",
    "for a in range(1000):\n",
    "    [b for b in range(1000)]"
   ]
  },
  {
   "cell_type": "markdown",
   "id": "41ab0837-17ee-463c-849a-fe82a569b194",
   "metadata": {},
   "source": [
    "You can write direct to a file from inside jupyter by using the command **writefile**."
   ]
  },
  {
   "cell_type": "code",
   "execution_count": 12,
   "id": "c518e51b-99a5-480e-aefe-c004cafbc490",
   "metadata": {},
   "outputs": [
    {
     "name": "stdout",
     "output_type": "stream",
     "text": [
      "Overwriting is_even.py\n"
     ]
    }
   ],
   "source": [
    "%%writefile is_even.py\n",
    "\n",
    "def is_even(integer_num):\n",
    "    if integer_num % 2 == 0:\n",
    "        print(f\"{integer_num} is even.\")\n",
    "    else:\n",
    "        print(f\"{integer_num} is not even.\")\n",
    "\n",
    "is_even(14)"
   ]
  },
  {
   "cell_type": "markdown",
   "id": "94c91d5c-c8a9-4509-aab7-3373d42a7806",
   "metadata": {},
   "source": [
    "Now you can run the file from within jupyter by using **run**."
   ]
  },
  {
   "cell_type": "code",
   "execution_count": 13,
   "id": "fd24b13d-3fb2-4114-9334-4215480564b1",
   "metadata": {},
   "outputs": [
    {
     "name": "stdout",
     "output_type": "stream",
     "text": [
      "14 is even.\n"
     ]
    }
   ],
   "source": [
    "%run is_even.py"
   ]
  },
  {
   "cell_type": "markdown",
   "id": "e276450e-60d2-4a3b-8314-46cf4f96e428",
   "metadata": {},
   "source": [
    "You can also load the contents of a file on disk by using **load**."
   ]
  },
  {
   "cell_type": "code",
   "execution_count": 14,
   "id": "c52e3bc1-63fb-4412-9f1a-ced785e90bc6",
   "metadata": {},
   "outputs": [],
   "source": [
    "# %load is_even.py\n",
    "\n",
    "def is_even(integer_num):\n",
    "    if integer_num % 2 == 0:\n",
    "        print(f\"{integer_num} is even.\")\n",
    "    else:\n",
    "        print(f\"{integer_num} is not even.\")\n",
    "\n",
    "is_even(14)\n"
   ]
  },
  {
   "cell_type": "markdown",
   "id": "1a8ab98b-8cc9-46c4-9657-7af58942881c",
   "metadata": {},
   "source": [
    "After loading, the functions in the file become available for using."
   ]
  },
  {
   "cell_type": "code",
   "execution_count": 15,
   "id": "0435708d-792a-4ae1-8834-1ffd78097db4",
   "metadata": {},
   "outputs": [
    {
     "name": "stdout",
     "output_type": "stream",
     "text": [
      "15 is not even.\n"
     ]
    }
   ],
   "source": [
    "is_even(15)"
   ]
  },
  {
   "cell_type": "markdown",
   "id": "d0b9c45d-3e96-4b91-9c1d-dfbde6b66bc3",
   "metadata": {},
   "source": [
    "To check whatever environment variables are defined in the current environment, you can use **env**."
   ]
  },
  {
   "cell_type": "code",
   "execution_count": 16,
   "id": "a7f04e62-004f-4eb2-b54a-d1742d5d7182",
   "metadata": {},
   "outputs": [
    {
     "data": {
      "text/plain": [
       "{'SHELL': '/bin/bash',\n",
       " 'SESSION_MANAGER': 'local/turingmachine:@/tmp/.ICE-unix/1686,unix/turingmachine:/tmp/.ICE-unix/1686',\n",
       " 'QT_ACCESSIBILITY': '1',\n",
       " 'COLORTERM': 'truecolor',\n",
       " 'XDG_CONFIG_DIRS': '/etc/xdg/xdg-ubuntu:/etc/xdg',\n",
       " 'SSH_AGENT_LAUNCHER': 'gnome-keyring',\n",
       " 'XDG_MENU_PREFIX': 'gnome-',\n",
       " 'TERM_PROGRAM_VERSION': '1.86.0',\n",
       " 'XDG_CONFIG_DIRS_VSCODE_SNAP_ORIG': '/etc/xdg/xdg-ubuntu:/etc/xdg',\n",
       " 'GNOME_DESKTOP_SESSION_ID': 'this-is-deprecated',\n",
       " 'GDK_BACKEND_VSCODE_SNAP_ORIG': '',\n",
       " 'LC_ADDRESS': 'pt_BR.UTF-8',\n",
       " 'GIO_MODULE_DIR_VSCODE_SNAP_ORIG': '',\n",
       " 'GNOME_SHELL_SESSION_MODE': 'ubuntu',\n",
       " 'LC_NAME': 'pt_BR.UTF-8',\n",
       " 'SSH_AUTH_SOCK': '/run/user/1000/keyring/ssh',\n",
       " 'XMODIFIERS': '@im=ibus',\n",
       " 'DESKTOP_SESSION': 'ubuntu',\n",
       " 'LC_MONETARY': 'pt_BR.UTF-8',\n",
       " 'BAMF_DESKTOP_FILE_HINT': '/var/lib/snapd/desktop/applications/code_code.desktop',\n",
       " 'GTK_MODULES': 'gail:atk-bridge',\n",
       " 'PWD': '/home/paulo-cabral/Documents/github-codespaces-dukecourse/wraping_up_course',\n",
       " 'GSETTINGS_SCHEMA_DIR': '/home/paulo-cabral/snap/code/150/.local/share/glib-2.0/schemas',\n",
       " 'XDG_SESSION_DESKTOP': 'ubuntu',\n",
       " 'LOGNAME': 'paulo-cabral',\n",
       " 'GTK_EXE_PREFIX': '/snap/code/150/usr',\n",
       " 'XDG_SESSION_TYPE': 'wayland',\n",
       " 'SYSTEMD_EXEC_PID': '1720',\n",
       " 'XAUTHORITY': '/run/user/1000/.mutter-Xwaylandauth.VR62H2',\n",
       " 'VSCODE_GIT_ASKPASS_NODE': '/snap/code/150/usr/share/code/code',\n",
       " 'IM_CONFIG_CHECK_ENV': '1',\n",
       " 'GJS_DEBUG_TOPICS': 'JS ERROR;JS LOG',\n",
       " 'HOME': '/home/paulo-cabral',\n",
       " 'USERNAME': 'paulo-cabral',\n",
       " 'IM_CONFIG_PHASE': '1',\n",
       " 'LC_PAPER': 'pt_BR.UTF-8',\n",
       " 'LANG': 'en_US.UTF-8',\n",
       " 'LS_COLORS': 'rs=0:di=01;34:ln=01;36:mh=00:pi=40;33:so=01;35:do=01;35:bd=40;33;01:cd=40;33;01:or=40;31;01:mi=00:su=37;41:sg=30;43:ca=30;41:tw=30;42:ow=34;42:st=37;44:ex=01;32:*.tar=01;31:*.tgz=01;31:*.arc=01;31:*.arj=01;31:*.taz=01;31:*.lha=01;31:*.lz4=01;31:*.lzh=01;31:*.lzma=01;31:*.tlz=01;31:*.txz=01;31:*.tzo=01;31:*.t7z=01;31:*.zip=01;31:*.z=01;31:*.dz=01;31:*.gz=01;31:*.lrz=01;31:*.lz=01;31:*.lzo=01;31:*.xz=01;31:*.zst=01;31:*.tzst=01;31:*.bz2=01;31:*.bz=01;31:*.tbz=01;31:*.tbz2=01;31:*.tz=01;31:*.deb=01;31:*.rpm=01;31:*.jar=01;31:*.war=01;31:*.ear=01;31:*.sar=01;31:*.rar=01;31:*.alz=01;31:*.ace=01;31:*.zoo=01;31:*.cpio=01;31:*.7z=01;31:*.rz=01;31:*.cab=01;31:*.wim=01;31:*.swm=01;31:*.dwm=01;31:*.esd=01;31:*.jpg=01;35:*.jpeg=01;35:*.mjpg=01;35:*.mjpeg=01;35:*.gif=01;35:*.bmp=01;35:*.pbm=01;35:*.pgm=01;35:*.ppm=01;35:*.tga=01;35:*.xbm=01;35:*.xpm=01;35:*.tif=01;35:*.tiff=01;35:*.png=01;35:*.svg=01;35:*.svgz=01;35:*.mng=01;35:*.pcx=01;35:*.mov=01;35:*.mpg=01;35:*.mpeg=01;35:*.m2v=01;35:*.mkv=01;35:*.webm=01;35:*.webp=01;35:*.ogm=01;35:*.mp4=01;35:*.m4v=01;35:*.mp4v=01;35:*.vob=01;35:*.qt=01;35:*.nuv=01;35:*.wmv=01;35:*.asf=01;35:*.rm=01;35:*.rmvb=01;35:*.flc=01;35:*.avi=01;35:*.fli=01;35:*.flv=01;35:*.gl=01;35:*.dl=01;35:*.xcf=01;35:*.xwd=01;35:*.yuv=01;35:*.cgm=01;35:*.emf=01;35:*.ogv=01;35:*.ogx=01;35:*.aac=00;36:*.au=00;36:*.flac=00;36:*.m4a=00;36:*.mid=00;36:*.midi=00;36:*.mka=00;36:*.mp3=00;36:*.mpc=00;36:*.ogg=00;36:*.ra=00;36:*.wav=00;36:*.oga=00;36:*.opus=00;36:*.spx=00;36:*.xspf=00;36:',\n",
       " 'XDG_CURRENT_DESKTOP': 'Unity',\n",
       " 'VIRTUAL_ENV': '/home/paulo-cabral/Documents/github-codespaces-dukecourse/wraping_up_course/env',\n",
       " 'WAYLAND_DISPLAY': 'wayland-0',\n",
       " 'GIT_ASKPASS': '/snap/code/150/usr/share/code/resources/app/extensions/git/dist/askpass.sh',\n",
       " 'INVOCATION_ID': '1769c2dd993b4e33a782998cd7bdf113',\n",
       " 'MANAGERPID': '1534',\n",
       " 'DOTNET_BUNDLE_EXTRACT_BASE_DIR': '/home/paulo-cabral/.cache/dotnet_bundle_extract',\n",
       " 'CHROME_DESKTOP': 'code-url-handler.desktop',\n",
       " 'GJS_DEBUG_OUTPUT': 'stderr',\n",
       " 'VSCODE_GIT_ASKPASS_EXTRA_ARGS': '',\n",
       " 'GNOME_SETUP_DISPLAY': ':1',\n",
       " 'GSETTINGS_SCHEMA_DIR_VSCODE_SNAP_ORIG': '',\n",
       " 'GTK_IM_MODULE_FILE_VSCODE_SNAP_ORIG': '',\n",
       " 'LESSCLOSE': '/usr/bin/lesspipe %s %s',\n",
       " 'XDG_SESSION_CLASS': 'user',\n",
       " 'TERM': 'xterm-color',\n",
       " 'LC_IDENTIFICATION': 'pt_BR.UTF-8',\n",
       " 'GTK_PATH': '/snap/code/150/usr/lib/x86_64-linux-gnu/gtk-3.0',\n",
       " 'LESSOPEN': '| /usr/bin/lesspipe %s',\n",
       " 'USER': 'paulo-cabral',\n",
       " 'GTK_PATH_VSCODE_SNAP_ORIG': '',\n",
       " 'VSCODE_GIT_IPC_HANDLE': '/run/user/1000/vscode-git-1bbf8cba68.sock',\n",
       " 'DISPLAY': ':0',\n",
       " 'SHLVL': '1',\n",
       " 'LOCPATH': '/snap/code/150/usr/lib/locale',\n",
       " 'LC_TELEPHONE': 'pt_BR.UTF-8',\n",
       " 'QT_IM_MODULE': 'ibus',\n",
       " 'LC_MEASUREMENT': 'pt_BR.UTF-8',\n",
       " 'GTK_EXE_PREFIX_VSCODE_SNAP_ORIG': '',\n",
       " 'VIRTUAL_ENV_PROMPT': '(env) ',\n",
       " 'LC_CTYPE': 'pt_BR.UTF-8',\n",
       " 'XDG_RUNTIME_DIR': '/run/user/1000',\n",
       " 'PS1': '\\\\[\\x1b]633;A\\x07\\\\](env) \\\\[\\x1b]633;A\\x07\\\\]\\\\[\\\\e]0;\\\\u@\\\\h: \\\\w\\\\a\\\\]${debian_chroot:+($debian_chroot)}\\\\[\\\\033[01;32m\\\\]\\\\u@\\\\h\\\\[\\\\033[00m\\\\]:\\\\[\\\\033[01;34m\\\\]\\\\w\\\\[\\\\033[00m\\\\]\\\\$ \\\\[\\x1b]633;B\\x07\\\\]\\\\[\\x1b]633;B\\x07\\\\]',\n",
       " 'XDG_DATA_DIRS_VSCODE_SNAP_ORIG': '/usr/share/ubuntu:/usr/local/share/:/usr/share/:/var/lib/snapd/desktop',\n",
       " 'LC_TIME': 'pt_BR.UTF-8',\n",
       " 'VSCODE_GIT_ASKPASS_MAIN': '/snap/code/150/usr/share/code/resources/app/extensions/git/dist/askpass-main.js',\n",
       " 'JOURNAL_STREAM': '8:35954',\n",
       " 'XDG_DATA_DIRS': '/home/paulo-cabral/snap/code/150/.local/share:/home/paulo-cabral/snap/code/150:/snap/code/150/usr/share:/usr/share/ubuntu:/usr/local/share/:/usr/share/:/var/lib/snapd/desktop',\n",
       " 'GDK_BACKEND': 'x11',\n",
       " 'PATH': '/home/paulo-cabral/Documents/github-codespaces-dukecourse/wraping_up_course/env/bin:/usr/local/sbin:/usr/local/bin:/usr/sbin:/usr/bin:/sbin:/bin:/usr/games:/usr/local/games:/snap/bin:/snap/bin:/home/paulo-cabral/.dotnet/tools',\n",
       " 'GDMSESSION': 'ubuntu',\n",
       " 'ORIGINAL_XDG_CURRENT_DESKTOP': 'ubuntu:GNOME',\n",
       " 'DBUS_SESSION_BUS_ADDRESS': 'unix:path=/run/user/1000/bus',\n",
       " 'GTK_IM_MODULE_FILE': '/home/paulo-cabral/snap/code/common/.cache/immodules/immodules.cache',\n",
       " 'LOCPATH_VSCODE_SNAP_ORIG': '',\n",
       " 'GIO_MODULE_DIR': '/home/paulo-cabral/snap/code/common/.cache/gio-modules',\n",
       " 'GIO_LAUNCHED_DESKTOP_FILE_PID': '9974',\n",
       " 'GIO_LAUNCHED_DESKTOP_FILE': '/var/lib/snapd/desktop/applications/code_code.desktop',\n",
       " 'LC_NUMERIC': 'pt_BR.UTF-8',\n",
       " 'TERM_PROGRAM': 'vscode',\n",
       " '_': '/home/paulo-cabral/Documents/github-codespaces-dukecourse/wraping_up_course/env/bin/jupyter',\n",
       " 'PYDEVD_USE_FRAME_EVAL': 'NO',\n",
       " 'JPY_SESSION_NAME': '/home/paulo-cabral/Documents/github-codespaces-dukecourse/wraping_up_course/Untitled.ipynb',\n",
       " 'JPY_PARENT_PID': '10953',\n",
       " 'CLICOLOR': '1',\n",
       " 'FORCE_COLOR': '1',\n",
       " 'CLICOLOR_FORCE': '1',\n",
       " 'PAGER': 'cat',\n",
       " 'GIT_PAGER': 'cat',\n",
       " 'MPLBACKEND': 'module://matplotlib_inline.backend_inline'}"
      ]
     },
     "execution_count": 16,
     "metadata": {},
     "output_type": "execute_result"
    }
   ],
   "source": [
    "%env"
   ]
  },
  {
   "cell_type": "markdown",
   "id": "5fcbbef7-b64b-439b-8e38-f5e16db78e8e",
   "metadata": {},
   "source": [
    "To assign values to the environment variables, you can use the same function."
   ]
  },
  {
   "cell_type": "code",
   "execution_count": 17,
   "id": "445e698b-2245-4244-9baf-c6400b85f25a",
   "metadata": {},
   "outputs": [
    {
     "name": "stdout",
     "output_type": "stream",
     "text": [
      "env: FIND_ME='You found!'\n"
     ]
    }
   ],
   "source": [
    "%env FIND_ME='You found!'"
   ]
  },
  {
   "cell_type": "markdown",
   "id": "4cc61246-e37e-40c1-9a66-8b96a391e92c",
   "metadata": {},
   "source": [
    "Now checking it."
   ]
  },
  {
   "cell_type": "code",
   "execution_count": 19,
   "id": "739e3f98-17e1-4966-91b6-a9f5401909dd",
   "metadata": {},
   "outputs": [
    {
     "data": {
      "text/plain": [
       "\"'You found!'\""
      ]
     },
     "execution_count": 19,
     "metadata": {},
     "output_type": "execute_result"
    }
   ],
   "source": [
    "%env FIND_ME"
   ]
  },
  {
   "cell_type": "markdown",
   "id": "837eff25-6f11-4f33-8281-0702828d37e4",
   "metadata": {},
   "source": [
    "To run a code in another language, you can use **script**."
   ]
  },
  {
   "cell_type": "code",
   "execution_count": 22,
   "id": "5309d46d-8df2-4e53-a093-376fce6f355e",
   "metadata": {},
   "outputs": [
    {
     "name": "stdout",
     "output_type": "stream",
     "text": [
      "Is bash inside?\n"
     ]
    }
   ],
   "source": [
    "%%script bash\n",
    "\n",
    "echo 'Is bash inside?'"
   ]
  },
  {
   "cell_type": "markdown",
   "id": "2cc38734-fdfb-4bbb-9bbd-b49745c0ef6a",
   "metadata": {},
   "source": [
    "Finally, to see a history of commands you can use **history**."
   ]
  },
  {
   "cell_type": "code",
   "execution_count": 24,
   "id": "8b3e85c8-b0bf-45da-98f1-1408609149e2",
   "metadata": {},
   "outputs": [
    {
     "name": "stdout",
     "output_type": "stream",
     "text": [
      "%lsmagics\n",
      "%lsmagic\n",
      "%lsmagic?\n",
      "%timeit [i for i in range(1000)]\n",
      "%%timeit\n",
      "for a in range(1000):\n",
      "    [b for b in range(1000)]:\n",
      "%%timeit\n",
      "for a in range(1000):\n",
      "    [b for b in range(1000)]\n",
      "%writefile is_even.py\n",
      "\n",
      "def is_even(integer_num):\n",
      "    if integer_num % 2 == 0:\n",
      "        print(f\"{integer_num} is even.\")\n",
      "    else:\n",
      "        print(f\"{integer_num} is not even.\")\n",
      "%%writefile is_even.py\n",
      "\n",
      "def is_even(integer_num):\n",
      "    if integer_num % 2 == 0:\n",
      "        print(f\"{integer_num} is even.\")\n",
      "    else:\n",
      "        print(f\"{integer_num} is not even.\")\n",
      "%%writefile is_even.py\n",
      "\n",
      "def is_even(integer_num):\n",
      "    if integer_num % 2 == 0:\n",
      "        print(f\"{integer_num} is even.\")\n",
      "    else:\n",
      "        print(f\"{integer_num} is not even.\")\n",
      "\n",
      "iseve(14)\n",
      "%run is_even.py\n",
      "%%writefile is_even.py\n",
      "\n",
      "def is_even(integer_num):\n",
      "    if integer_num % 2 == 0:\n",
      "        print(f\"{integer_num} is even.\")\n",
      "    else:\n",
      "        print(f\"{integer_num} is not even.\")\n",
      "\n",
      "iseven(14)\n",
      "%%writefile is_even.py\n",
      "\n",
      "def is_even(integer_num):\n",
      "    if integer_num % 2 == 0:\n",
      "        print(f\"{integer_num} is even.\")\n",
      "    else:\n",
      "        print(f\"{integer_num} is not even.\")\n",
      "\n",
      "is_even(14)\n",
      "%run is_even.py\n",
      "%load is_even.py\n",
      "is_even(15)\n",
      "%env\n",
      "%env FIND_ME='You found!'\n",
      "%env\n",
      "%env FIND_ME\n",
      "%%script matlab\n",
      "\n",
      "disp('Is matlab inside?')\n",
      "%%script bash\n",
      "\n",
      "print('Is matlab inside?')\n",
      "%%script bash\n",
      "\n",
      "echo 'Is bash inside?'\n",
      "%%history\n",
      "%history\n"
     ]
    }
   ],
   "source": [
    "%history"
   ]
  },
  {
   "cell_type": "code",
   "execution_count": null,
   "id": "03c2e62b-16ad-48ef-a828-310fb3076911",
   "metadata": {},
   "outputs": [],
   "source": []
  }
 ],
 "metadata": {
  "kernelspec": {
   "display_name": "Python 3 (ipykernel)",
   "language": "python",
   "name": "python3"
  },
  "language_info": {
   "codemirror_mode": {
    "name": "ipython",
    "version": 3
   },
   "file_extension": ".py",
   "mimetype": "text/x-python",
   "name": "python",
   "nbconvert_exporter": "python",
   "pygments_lexer": "ipython3",
   "version": "3.10.12"
  }
 },
 "nbformat": 4,
 "nbformat_minor": 5
}
